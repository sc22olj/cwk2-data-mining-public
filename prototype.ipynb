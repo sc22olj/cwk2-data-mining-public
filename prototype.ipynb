{
 "cells": [
  {
   "cell_type": "markdown",
   "metadata": {},
   "source": [
    "#### Code which returns the top 5 most similar sentences to the user input based on their similarity score, using a generic English model"
   ]
  },
  {
   "cell_type": "code",
   "execution_count": null,
   "metadata": {},
   "outputs": [],
   "source": [
    "import spacy\n",
    "from spacy.lang.en import English\n",
    "from spacy import displacy\n",
    "import xml.etree.ElementTree as ET\n",
    "\n",
    "# Use the medium model as it contains word embeddings\n",
    "nlp = spacy.load('en_core_web_md')"
   ]
  },
  {
   "cell_type": "code",
   "execution_count": null,
   "metadata": {},
   "outputs": [],
   "source": [
    "# Parse the XML file containing the EHR\n",
    "tree = ET.parse('data/n2c2/108.xml')\n",
    "\n",
    "root = tree.getroot()\n",
    "\n",
    "text = root.find('TEXT').text\n",
    "\n",
    "# Process the medical text\n",
    "doc = nlp(text)\n",
    "\n",
    "# Get some user input to compare with the document\n",
    "# Prototype hard coded for simplicity\n",
    "user_input = nlp(\"right knee pain and swelling\")\n",
    "\n",
    "results = []\n",
    "\n",
    "# Compare the meaning of the user input with the sentences in the document\n",
    "for sentence in doc.sents:\n",
    "\n",
    "    similarity_score = sentence.similarity(user_input)\n",
    "\n",
    "    results.append((similarity_score, sentence))\n",
    "\n",
    "# Sort the sentences by similarity score\n",
    "results.sort(key=lambda x: x[0], reverse=True)\n",
    "\n",
    "# Print the top 5 most similar sentences\n",
    "for i in range(5):\n",
    "    print(\"\\n***** Entry \" + str(i) + \" ***** score: \" + str(results[i][0]) + \" *****\\n\")\n",
    "    print(results[i][1])\n",
    "    print(\"\\n\")"
   ]
  },
  {
   "cell_type": "code",
   "execution_count": null,
   "metadata": {},
   "outputs": [],
   "source": []
  }
 ],
 "metadata": {
  "kernelspec": {
   "display_name": ".venv",
   "language": "python",
   "name": "python3"
  },
  "language_info": {
   "codemirror_mode": {
    "name": "ipython",
    "version": 3
   },
   "file_extension": ".py",
   "mimetype": "text/x-python",
   "name": "python",
   "nbconvert_exporter": "python",
   "pygments_lexer": "ipython3",
   "version": "3.10.13"
  }
 },
 "nbformat": 4,
 "nbformat_minor": 2
}
