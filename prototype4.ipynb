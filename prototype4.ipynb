{
 "cells": [
  {
   "cell_type": "markdown",
   "metadata": {},
   "source": [
    "#### Code which runs 2 NER models, then combines the entities from each into a placeholder Doc for visualisation. Combination of entities allows for more generalised NER"
   ]
  },
  {
   "cell_type": "code",
   "execution_count": null,
   "metadata": {},
   "outputs": [],
   "source": [
    "import spacy\n",
    "from spacy import displacy\n",
    "from spacy.tokens import Span\n",
    "from spacy.tokens import Doc\n",
    "from scispacy.abbreviation import AbbreviationDetector\n",
    "from scispacy.linking import EntityLinker\n",
    "import xml.etree.ElementTree as ET\n",
    "\n",
    "# Load the general model\n",
    "nlp_general = spacy.load('en_core_web_md')\n",
    "\n",
    "# Load the biomedical model\n",
    "nlp_biomedical = spacy.load('en_ner_bc5cdr_md')\n",
    "nlp_biomedical.add_pipe(\"abbreviation_detector\")\n",
    "nlp_biomedical.add_pipe(\"scispacy_linker\", config={\"resolve_abbreviations\": True, \"linker_name\": \"umls\"})\n",
    "\n",
    "# Parse the XML file\n",
    "tree = ET.parse('data/n2c2/108.xml')\n",
    "\n",
    "# Get the root of the XML document\n",
    "root = tree.getroot()\n",
    "\n",
    "# Extract everything inside the TEXT tag\n",
    "text = root.find('TEXT').text\n",
    "\n",
    "# Process the text with each model\n",
    "doc_general = nlp_general(text)\n",
    "doc_biomedical = nlp_biomedical(text)\n",
    "\n",
    "# Extract entities from each model's output\n",
    "entities_general = [{\"start\": ent.start, \"end\": ent.end, \"label\": ent.label} for ent in doc_general.ents]\n",
    "entities_biomedical = [{\"start\": ent.start, \"end\": ent.end, \"label\": ent.label} for ent in doc_biomedical.ents]\n",
    "\n",
    "# Combine entities\n",
    "combined_entities = entities_general + entities_biomedical\n",
    "\n",
    "# Sort entities by start position\n",
    "combined_entities.sort(key=lambda x: x['start'])\n",
    "\n",
    "# Resolve overlaps, prioritizing entities from the biomedical model\n",
    "resolved_entities = []\n",
    "for entity in combined_entities:\n",
    "    if resolved_entities and entity['start'] < resolved_entities[-1]['end']:\n",
    "        # This entity overlaps with the previous one. If it's from the biomedical model, replace the previous one.\n",
    "        if entity in entities_biomedical:\n",
    "            resolved_entities[-1] = entity\n",
    "    else:\n",
    "        resolved_entities.append(entity)\n",
    "\n",
    "# Create a new Doc object from the original Doc object's words\n",
    "words = [token.text for token in doc_general]\n",
    "spaces = [token.whitespace_ for token in doc_general]\n",
    "doc_combined = Doc(doc_general.vocab, words=words, spaces=spaces)\n",
    "\n",
    "# Add the resolved entities to the new Doc object\n",
    "for ent in resolved_entities:\n",
    "    span = Span(doc_combined, ent[\"start\"], ent[\"end\"], label=ent[\"label\"])\n",
    "    doc_combined.ents = list(doc_combined.ents) + [span]\n",
    "\n",
    "# Visualize combined entities\n",
    "displacy.render(doc_combined, style=\"ent\")"
   ]
  }
 ],
 "metadata": {
  "kernelspec": {
   "display_name": "Python 3",
   "language": "python",
   "name": "python3"
  },
  "language_info": {
   "codemirror_mode": {
    "name": "ipython",
    "version": 3
   },
   "file_extension": ".py",
   "mimetype": "text/x-python",
   "name": "python",
   "nbconvert_exporter": "python",
   "pygments_lexer": "ipython3",
   "version": "3.10.13"
  }
 },
 "nbformat": 4,
 "nbformat_minor": 2
}
