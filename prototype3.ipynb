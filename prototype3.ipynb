{
 "cells": [
  {
   "cell_type": "markdown",
   "metadata": {},
   "source": [
    "#### Code which (unsuccessfully) attempts to combine NER pipes for more generalised NER before the text is processsed"
   ]
  },
  {
   "cell_type": "code",
   "execution_count": null,
   "metadata": {},
   "outputs": [],
   "source": [
    "import spacy\n",
    "from spacy.lang.en import English\n",
    "from spacy import displacy\n",
    "from scispacy.abbreviation import AbbreviationDetector\n",
    "from scispacy.linking import EntityLinker\n",
    "import xml.etree.ElementTree as ET"
   ]
  },
  {
   "cell_type": "code",
   "execution_count": null,
   "metadata": {},
   "outputs": [],
   "source": [
    "# General model\n",
    "nlp_general = spacy.load('en_core_web_md')\n",
    "\n",
    "print(nlp_general.pipe_names)"
   ]
  },
  {
   "cell_type": "code",
   "execution_count": null,
   "metadata": {},
   "outputs": [],
   "source": [
    "# Medical models (with medical abbreviation detection and entity linking)\n",
    "nlp_BC5CDR = spacy.load('en_ner_bc5cdr_md')\n",
    "nlp_BC5CDR.add_pipe(\"abbreviation_detector\")\n",
    "nlp_BC5CDR.add_pipe(\"scispacy_linker\", config={\"resolve_abbreviations\": True, \"linker_name\": \"umls\"})\n",
    "\n",
    "print(nlp_BC5CDR.pipe_names)"
   ]
  },
  {
   "cell_type": "code",
   "execution_count": null,
   "metadata": {},
   "outputs": [],
   "source": [
    "# Parse the XML file\n",
    "tree = ET.parse('data/n2c2/108.xml')\n",
    "\n",
    "# Get the root of the XML document\n",
    "root = tree.getroot()\n",
    "\n",
    "# Extract everything inside the TEXT tag\n",
    "text = root.find('TEXT').text\n",
    "\n",
    "# Add the NER pipe from the general model to the biomedical model (to prioritise biomedical entities)\n",
    "\n",
    "# NB it is not possible to use multiple NER pipes from models with different vector space sizes\n",
    "# Therefore this code does not work\n",
    "nlp_BC5CDR.add_pipe(\"ner\", name=\"ner_general\", source=nlp_general)\n",
    "\n",
    "print(nlp_general.pipe_names)\n",
    "\n",
    "# Perform NER on the text\n",
    "doc_BC5CDR = nlp_BC5CDR(text)\n",
    "\n",
    "displacy.render(doc_BC5CDR, style='ent', jupyter=True)"
   ]
  }
 ],
 "metadata": {
  "kernelspec": {
   "display_name": "Python 3",
   "language": "python",
   "name": "python3"
  },
  "language_info": {
   "codemirror_mode": {
    "name": "ipython",
    "version": 3
   },
   "file_extension": ".py",
   "mimetype": "text/x-python",
   "name": "python",
   "nbconvert_exporter": "python",
   "pygments_lexer": "ipython3",
   "version": "3.10.13"
  }
 },
 "nbformat": 4,
 "nbformat_minor": 2
}
