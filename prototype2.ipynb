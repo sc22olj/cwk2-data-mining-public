{
 "cells": [
  {
   "cell_type": "markdown",
   "metadata": {},
   "source": [
    "#### Code which returns the top 5 most similar sentences to the user input based on their similarity score, using the a scispacy model"
   ]
  },
  {
   "cell_type": "code",
   "execution_count": null,
   "metadata": {},
   "outputs": [],
   "source": [
    "import spacy\n",
    "from spacy.lang.en import English\n",
    "from spacy import displacy\n",
    "from scispacy.abbreviation import AbbreviationDetector\n",
    "import xml.etree.ElementTree as ET"
   ]
  },
  {
   "cell_type": "code",
   "execution_count": null,
   "metadata": {},
   "outputs": [],
   "source": [
    "# Use a medically-trained model on the data\n",
    "nlp = spacy.load('en_core_sci_md')\n",
    "\n",
    "# Add the medical abbreviation detector\n",
    "nlp.add_pipe(\"abbreviation_detector\")"
   ]
  },
  {
   "cell_type": "code",
   "execution_count": null,
   "metadata": {},
   "outputs": [],
   "source": [
    "# Parse the XML file\n",
    "tree = ET.parse('data/n2c2/108.xml')\n",
    "\n",
    "# Get the root of the XML document\n",
    "root = tree.getroot()\n",
    "\n",
    "# Extract everything inside the TEXT tag\n",
    "text = root.find('TEXT').text\n",
    "\n",
    "# Process the medical text\n",
    "doc = nlp(text)\n",
    "\n",
    "# Print entity types\n",
    "# NB non NER-specific scispacy models do not differentiate between entitity types\n",
    "for ent in doc.ents:\n",
    "    print(ent, ent.label_)"
   ]
  },
  {
   "cell_type": "code",
   "execution_count": null,
   "metadata": {},
   "outputs": [],
   "source": [
    "# Get some user input to compare with the document\n",
    "# Hard coded for simplicity\n",
    "user_input = nlp(\"right knee pain and swelling\")\n",
    "\n",
    "results = []\n",
    "\n",
    "# Compare the meaning of the user input with the sentences in the document\n",
    "for sentence in doc.sents:\n",
    "\n",
    "    similarity_score = sentence.similarity(user_input)\n",
    "\n",
    "    results.append((similarity_score, sentence))\n",
    "\n",
    "# Sort the sentences by similarity score\n",
    "results.sort(key=lambda x: x[0], reverse=True)\n",
    "\n",
    "# Print the top 5 most similar sentences\n",
    "for i in range(5):\n",
    "    print(\"\\n***** Entry \" + str(i) + \" ***** score: \" + str(results[i][0]) + \" *****\\n\")\n",
    "    print(results[i][1])\n",
    "    print(\"\\n\")"
   ]
  }
 ],
 "metadata": {
  "kernelspec": {
   "display_name": "Python 3",
   "language": "python",
   "name": "python3"
  },
  "language_info": {
   "codemirror_mode": {
    "name": "ipython",
    "version": 3
   },
   "file_extension": ".py",
   "mimetype": "text/x-python",
   "name": "python",
   "nbconvert_exporter": "python",
   "pygments_lexer": "ipython3",
   "version": "3.10.13"
  }
 },
 "nbformat": 4,
 "nbformat_minor": 2
}
